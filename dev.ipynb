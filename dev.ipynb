{
 "cells": [
  {
   "cell_type": "code",
   "execution_count": 2,
   "id": "6f056777",
   "metadata": {},
   "outputs": [],
   "source": [
    "import addresses"
   ]
  },
  {
   "cell_type": "code",
   "execution_count": 3,
   "id": "0cd1d603",
   "metadata": {},
   "outputs": [],
   "source": [
    "a=addresses.AddressHandler()"
   ]
  },
  {
   "cell_type": "code",
   "execution_count": 4,
   "id": "8665fe3f",
   "metadata": {},
   "outputs": [
    {
     "data": {
      "text/plain": [
       "{0: {'glyph': '⟡', 'color': '#c745bb'},\n",
       " 1: {'glyph': '∮', 'color': '#6d44dc'},\n",
       " 2: {'glyph': '𝕹', 'color': '#97cc63'},\n",
       " 3: {'glyph': '⟐', 'color': '#c89190'},\n",
       " 4: {'glyph': '𝕻', 'color': '#8b48d1'},\n",
       " 5: {'glyph': '𝜭', 'color': '#d455ae'},\n",
       " 6: {'glyph': '⪦', 'color': '#b2b07b'},\n",
       " 7: {'glyph': '𝖂', 'color': '#a948c6'},\n",
       " 8: {'glyph': '⨒', 'color': '#d96da1'}}"
      ]
     },
     "execution_count": 4,
     "metadata": {},
     "output_type": "execute_result"
    }
   ],
   "source": [
    "a.table_from_seed('35', colors='fever', n=9)"
   ]
  },
  {
   "cell_type": "code",
   "execution_count": null,
   "id": "09786111",
   "metadata": {},
   "outputs": [],
   "source": []
  },
  {
   "cell_type": "code",
   "execution_count": null,
   "id": "6f16ff5b",
   "metadata": {},
   "outputs": [
    {
     "data": {
      "text/plain": [
       "{0: {'glyph': '⟡', 'color': '#97cc63'},\n",
       " 1: {'glyph': '∮', 'color': '#d3799b'},\n",
       " 2: {'glyph': '𝕹', 'color': '#9549ce'},\n",
       " 3: {'glyph': '⟐', 'color': '#bd46bf'},\n",
       " 4: {'glyph': '𝕻', 'color': '#6d44dc'},\n",
       " 5: {'glyph': '𝜭', 'color': '#bba684'},\n",
       " 6: {'glyph': '⪦', 'color': '#d455ae'}}"
      ]
     },
     "execution_count": 9,
     "metadata": {},
     "output_type": "execute_result"
    }
   ],
   "source": [
    "a.table_from_seed('35', colors='fever')"
   ]
  }
 ],
 "metadata": {
  "kernelspec": {
   "display_name": "venv",
   "language": "python",
   "name": "python3"
  },
  "language_info": {
   "codemirror_mode": {
    "name": "ipython",
    "version": 3
   },
   "file_extension": ".py",
   "mimetype": "text/x-python",
   "name": "python",
   "nbconvert_exporter": "python",
   "pygments_lexer": "ipython3",
   "version": "3.12.3"
  }
 },
 "nbformat": 4,
 "nbformat_minor": 5
}
