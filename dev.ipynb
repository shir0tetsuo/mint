{
 "cells": [
  {
   "cell_type": "code",
   "execution_count": 1,
   "id": "6f056777",
   "metadata": {},
   "outputs": [],
   "source": [
    "import addresses"
   ]
  },
  {
   "cell_type": "code",
   "execution_count": 2,
   "id": "0cd1d603",
   "metadata": {},
   "outputs": [],
   "source": [
    "a=addresses.AddressHandler()"
   ]
  },
  {
   "cell_type": "code",
   "execution_count": 3,
   "id": "8665fe3f",
   "metadata": {},
   "outputs": [
    {
     "data": {
      "text/plain": [
       "{0: {'glyph': '⟡', 'color': '#c745bb'},\n",
       " 1: {'glyph': '∮', 'color': '#6d44dc'},\n",
       " 2: {'glyph': '𝕹', 'color': '#97cc63'},\n",
       " 3: {'glyph': '⟐', 'color': '#c89190'},\n",
       " 4: {'glyph': '𝕻', 'color': '#8b48d1'},\n",
       " 5: {'glyph': '𝜭', 'color': '#d455ae'},\n",
       " 6: {'glyph': '⪦', 'color': '#b2b07b'},\n",
       " 7: {'glyph': '𝖂', 'color': '#a948c6'},\n",
       " 8: {'glyph': '⨒', 'color': '#d96da1'}}"
      ]
     },
     "execution_count": 3,
     "metadata": {},
     "output_type": "execute_result"
    }
   ],
   "source": [
    "a.table_from_seed('35', colors='fever', n=9)"
   ]
  },
  {
   "cell_type": "code",
   "execution_count": null,
   "id": "09786111",
   "metadata": {},
   "outputs": [],
   "source": []
  },
  {
   "cell_type": "code",
   "execution_count": 4,
   "id": "6f16ff5b",
   "metadata": {},
   "outputs": [
    {
     "data": {
      "text/plain": [
       "{0: {'glyph': '⟡', 'color': '#dc66a4'},\n",
       " 1: {'glyph': '∮', 'color': '#97cc63'},\n",
       " 2: {'glyph': '𝕹', 'color': '#6d44dc'},\n",
       " 3: {'glyph': '⟐', 'color': '#c29f8a'},\n",
       " 4: {'glyph': '𝕻', 'color': '#cd44b9'},\n",
       " 5: {'glyph': '𝜭', 'color': '#9d4acb'}}"
      ]
     },
     "execution_count": 4,
     "metadata": {},
     "output_type": "execute_result"
    }
   ],
   "source": [
    "a.table_from_seed('35', colors='fever')"
   ]
  },
  {
   "cell_type": "code",
   "execution_count": 5,
   "id": "6f4e068d",
   "metadata": {},
   "outputs": [
    {
     "name": "stdout",
     "output_type": "stream",
     "text": [
      "New Table Seed: 719eccc0-c7e3-48c5-8b86-9427a5cf3dd4\n"
     ]
    },
    {
     "data": {
      "text/plain": [
       "{0: {'default_glyph': '⪩',\n",
       "  'glyph': '⪩',\n",
       "  'default_color': '#bb9129',\n",
       "  'color': '#bb9129'},\n",
       " 1: {'default_glyph': '⨓',\n",
       "  'glyph': '⨓',\n",
       "  'default_color': '#bb8f1b',\n",
       "  'color': '#bb8f1b'},\n",
       " 2: {'default_glyph': '⨓',\n",
       "  'glyph': '⨓',\n",
       "  'default_color': '#bb8f1b',\n",
       "  'color': '#bb8f1b'},\n",
       " 3: {'default_glyph': '◁',\n",
       "  'glyph': '◁',\n",
       "  'default_color': '#f9e7b4',\n",
       "  'color': '#f9e7b4'},\n",
       " 4: {'default_glyph': '⨓',\n",
       "  'glyph': '⨓',\n",
       "  'default_color': '#bb8f1b',\n",
       "  'color': '#bb8f1b'},\n",
       " 5: {'default_glyph': '⨓',\n",
       "  'glyph': '⨓',\n",
       "  'default_color': '#bb8f1b',\n",
       "  'color': '#bb8f1b'},\n",
       " 6: {'default_glyph': '⨖',\n",
       "  'glyph': '⨖',\n",
       "  'default_color': '#caa652',\n",
       "  'color': '#caa652'},\n",
       " 7: {'default_glyph': '⨖',\n",
       "  'glyph': '⨖',\n",
       "  'default_color': '#caa652',\n",
       "  'color': '#caa652'},\n",
       " 8: {'default_glyph': '⨖',\n",
       "  'glyph': '⨖',\n",
       "  'default_color': '#caa652',\n",
       "  'color': '#caa652'}}"
      ]
     },
     "execution_count": 5,
     "metadata": {},
     "output_type": "execute_result"
    }
   ],
   "source": [
    "a.build()"
   ]
  },
  {
   "cell_type": "code",
   "execution_count": 10,
   "id": "1464fc46",
   "metadata": {},
   "outputs": [
    {
     "data": {
      "text/plain": [
       "{0: {'default_glyph': '◊',\n",
       "  'glyph': '𝚿',\n",
       "  'default_color': '#dab44f',\n",
       "  'color': '#dab44f'},\n",
       " 1: {'default_glyph': '⊛',\n",
       "  'glyph': '⊛',\n",
       "  'default_color': '#caa138',\n",
       "  'color': '#caa138'},\n",
       " 2: {'default_glyph': '⊛',\n",
       "  'glyph': '⫀',\n",
       "  'default_color': '#caa138',\n",
       "  'color': '#caa138'},\n",
       " 3: {'default_glyph': '◊',\n",
       "  'glyph': '⍚',\n",
       "  'default_color': '#dab44f',\n",
       "  'color': '#dab44f'},\n",
       " 4: {'default_glyph': '⨖',\n",
       "  'glyph': '⪧',\n",
       "  'default_color': '#ead194',\n",
       "  'color': '#ead194'},\n",
       " 5: {'default_glyph': '⨖',\n",
       "  'glyph': '⪧',\n",
       "  'default_color': '#ead194',\n",
       "  'color': '#ead194'},\n",
       " 6: {'default_glyph': '⨖',\n",
       "  'glyph': '⨖',\n",
       "  'default_color': '#ead194',\n",
       "  'color': '#ead194'},\n",
       " 7: {'default_glyph': '⫀',\n",
       "  'glyph': '⫀',\n",
       "  'default_color': '#caa652',\n",
       "  'color': '#caa652'},\n",
       " 8: {'default_glyph': '⪿',\n",
       "  'glyph': '⪿',\n",
       "  'default_color': '#f9e7b4',\n",
       "  'color': '#f9e7b4'}}"
      ]
     },
     "execution_count": 10,
     "metadata": {},
     "output_type": "execute_result"
    }
   ],
   "source": [
    "\n",
    "a.build(seed='4b5dd072-e451-42be-816d-ad1924c1502c', glyph_values=[27,None,29,0,2,2])"
   ]
  }
 ],
 "metadata": {
  "kernelspec": {
   "display_name": "venv",
   "language": "python",
   "name": "python3"
  },
  "language_info": {
   "codemirror_mode": {
    "name": "ipython",
    "version": 3
   },
   "file_extension": ".py",
   "mimetype": "text/x-python",
   "name": "python",
   "nbconvert_exporter": "python",
   "pygments_lexer": "ipython3",
   "version": "3.12.3"
  }
 },
 "nbformat": 4,
 "nbformat_minor": 5
}
